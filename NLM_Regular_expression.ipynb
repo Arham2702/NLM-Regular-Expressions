{
  "nbformat": 4,
  "nbformat_minor": 0,
  "metadata": {
    "colab": {
      "provenance": [],
      "mount_file_id": "1gq_3F0gs4rPPJKXQ9f0ch5ebQvGqYGtr",
      "authorship_tag": "ABX9TyNYu9yN0U65xHcZGwgpGCoP",
      "include_colab_link": true
    },
    "kernelspec": {
      "name": "python3",
      "display_name": "Python 3"
    },
    "language_info": {
      "name": "python"
    }
  },
  "cells": [
    {
      "cell_type": "markdown",
      "metadata": {
        "id": "view-in-github",
        "colab_type": "text"
      },
      "source": [
        "<a href=\"https://colab.research.google.com/github/Arham2702/NLM-Regular-Expressions/blob/main/NLM_Regular_expression.ipynb\" target=\"_parent\"><img src=\"https://colab.research.google.com/assets/colab-badge.svg\" alt=\"Open In Colab\"/></a>"
      ]
    },
    {
      "cell_type": "markdown",
      "source": [
        "**Importing**"
      ],
      "metadata": {
        "id": "Qb89yiE4xQMP"
      }
    },
    {
      "cell_type": "code",
      "source": [
        "import urllib.request as urllib2\n",
        "from bs4 import BeautifulSoup\n",
        "import re \n",
        "import pandas as pd\n",
        "import numpy as np\n",
        "import nltk\n",
        "nltk.download('stopwords')\n",
        "nltk.download('wordnet')\n",
        "nltk.download('omw-1.4') \n",
        "from nltk.corpus import stopwords\n",
        "from textblob import Word"
      ],
      "metadata": {
        "id": "I29MWXBoO-lB",
        "colab": {
          "base_uri": "https://localhost:8080/"
        },
        "outputId": "5e7d5e71-d3af-486c-c324-779347dc1fb7"
      },
      "execution_count": 12,
      "outputs": [
        {
          "output_type": "stream",
          "name": "stderr",
          "text": [
            "[nltk_data] Downloading package stopwords to /root/nltk_data...\n",
            "[nltk_data]   Package stopwords is already up-to-date!\n",
            "[nltk_data] Downloading package wordnet to /root/nltk_data...\n",
            "[nltk_data]   Package wordnet is already up-to-date!\n",
            "[nltk_data] Downloading package omw-1.4 to /root/nltk_data...\n"
          ]
        }
      ]
    },
    {
      "cell_type": "markdown",
      "source": [
        "**findall() & lower()** "
      ],
      "metadata": {
        "id": "KG0DPge4xWwU"
      }
    },
    {
      "cell_type": "code",
      "source": [
        "with open('/content/drive/MyDrive/Datasets/NLM dataset/NLM dataset.txt') as f:\n",
        "  word = \"His\"\n",
        "  strings = re.findall(word.lower(),f.read())\n",
        "  print(strings)"
      ],
      "metadata": {
        "id": "Xio6PD-9tubo",
        "colab": {
          "base_uri": "https://localhost:8080/"
        },
        "outputId": "12dd3a16-d1b7-431c-c020-b94998180621"
      },
      "execution_count": 3,
      "outputs": [
        {
          "output_type": "stream",
          "name": "stdout",
          "text": [
            "['his', 'his', 'his', 'his', 'his', 'his', 'his', 'his', 'his', 'his', 'his', 'his', 'his', 'his', 'his', 'his', 'his', 'his', 'his', 'his', 'his', 'his', 'his', 'his', 'his', 'his', 'his', 'his', 'his', 'his', 'his', 'his', 'his', 'his', 'his', 'his', 'his', 'his', 'his', 'his', 'his', 'his', 'his', 'his', 'his', 'his', 'his', 'his', 'his', 'his', 'his', 'his', 'his', 'his', 'his', 'his', 'his', 'his', 'his', 'his', 'his', 'his', 'his', 'his', 'his', 'his', 'his', 'his', 'his', 'his', 'his', 'his', 'his', 'his', 'his', 'his', 'his', 'his', 'his', 'his', 'his', 'his', 'his', 'his', 'his', 'his', 'his', 'his', 'his', 'his', 'his', 'his', 'his', 'his', 'his']\n"
          ]
        }
      ]
    },
    {
      "cell_type": "markdown",
      "source": [
        "**Web Scraping**"
      ],
      "metadata": {
        "id": "MY96PIupxjy6"
      }
    },
    {
      "cell_type": "code",
      "source": [
        "response = urllib2.urlopen('https://en.wikipedia.org/wiki/Portal:Sport_of_athletics/Selected_biography')\n",
        "html_doc = response.read()"
      ],
      "metadata": {
        "id": "P1LN7HDkPpFa"
      },
      "execution_count": 4,
      "outputs": []
    },
    {
      "cell_type": "code",
      "source": [
        "soup = BeautifulSoup(html_doc, 'html.parser')\n",
        "strhtm = soup.prettify()\n",
        "print (strhtm[:1000])"
      ],
      "metadata": {
        "colab": {
          "base_uri": "https://localhost:8080/"
        },
        "id": "jOeDA31JQD9r",
        "outputId": "7f36226f-a436-4767-a15a-47a8fa5d9ff7"
      },
      "execution_count": 5,
      "outputs": [
        {
          "output_type": "stream",
          "name": "stdout",
          "text": [
            "<!DOCTYPE html>\n",
            "<html class=\"client-nojs vector-feature-language-in-header-enabled vector-feature-language-in-main-page-header-disabled vector-feature-language-alert-in-sidebar-enabled vector-feature-sticky-header-disabled vector-feature-page-tools-disabled vector-feature-page-tools-pinned-disabled vector-feature-toc-pinned-enabled vector-feature-main-menu-pinned-disabled vector-feature-limited-width-enabled vector-feature-limited-width-content-enabled\" dir=\"ltr\" lang=\"en\">\n",
            " <head>\n",
            "  <meta charset=\"utf-8\"/>\n",
            "  <title>\n",
            "   Portal:Sport of athletics/Selected biography - Wikipedia\n",
            "  </title>\n",
            "  <script>\n",
            "   document.documentElement.className=\"client-js vector-feature-language-in-header-enabled vector-feature-language-in-main-page-header-disabled vector-feature-language-alert-in-sidebar-enabled vector-feature-sticky-header-disabled vector-feature-page-tools-disabled vector-feature-page-tools-pinned-disabled vector-feature-toc-pinned-enabled vector-feature-main-menu-pinned-disabled vector-featu\n"
          ]
        }
      ]
    },
    {
      "cell_type": "code",
      "source": [
        "print(soup.title)\n",
        "print(soup.title.string)\n",
        "print(soup.a.string)\n",
        "print(soup.b.string)"
      ],
      "metadata": {
        "colab": {
          "base_uri": "https://localhost:8080/"
        },
        "id": "CR4U8n4kQfGM",
        "outputId": "f816c2cf-c69c-459a-8592-588253f8ba5e"
      },
      "execution_count": 6,
      "outputs": [
        {
          "output_type": "stream",
          "name": "stdout",
          "text": [
            "<title>Portal:Sport of athletics/Selected biography - Wikipedia</title>\n",
            "Portal:Sport of athletics/Selected biography - Wikipedia\n",
            "Jump to content\n",
            "Usain St. Leo Bolt\n"
          ]
        }
      ]
    },
    {
      "cell_type": "code",
      "source": [
        "for x in soup.find_all('p'): print(x.text)"
      ],
      "metadata": {
        "id": "NFGFYVGGQ34I"
      },
      "execution_count": null,
      "outputs": []
    },
    {
      "cell_type": "markdown",
      "source": [
        "**Stop Words**"
      ],
      "metadata": {
        "id": "I2eXhXEu283Q"
      }
    },
    {
      "cell_type": "code",
      "source": [
        "df = pd.read_csv('/content/drive/MyDrive/Datasets/NLM dataset/paraphrased_articles.csv')\n",
        "print(df)  "
      ],
      "metadata": {
        "id": "Fj66WjJ23DAm"
      },
      "execution_count": null,
      "outputs": []
    },
    {
      "cell_type": "code",
      "source": [
        "stop = stopwords.words('english')\n",
        "df['Introduction'] = df['Introduction'].apply(lambda x: \"\".join(x for x in x.split() if x not in stop))\n",
        "df['Introduction']"
      ],
      "metadata": {
        "colab": {
          "base_uri": "https://localhost:8080/"
        },
        "id": "zjIPsc0pyrjC",
        "outputId": "1494e774-fc10-4ae6-c0a2-7bb64662f994"
      },
      "execution_count": 4,
      "outputs": [
        {
          "output_type": "execute_result",
          "data": {
            "text/plain": [
              "0     Recentadvanceslargepretrainedlanguagemodelsall...\n",
              "1     MakingdesirededitsimagevideousingtoolslikeAdob...\n",
              "2     Deep-learningbasedsuper-resolution(SR)methodsp...\n",
              "3     Generativelanguagemodelscorecapabilityproducti...\n",
              "4     Magneticresonanceimaging(MRI)usedmanydiagnosti...\n",
              "                            ...                        \n",
              "64    Genericshaperecognitiondemandsrepresentationsr...\n",
              "65    Inmanyvisionapplications,onesearchesobjectinte...\n",
              "66    WeaddressproblementeringASCIItextwearablecompu...\n",
              "67    Inpaper,unistrokekeyboardmouse-likesystembased...\n",
              "68    Understandingpredictinginterestingnessimagesvi...\n",
              "Name: Introduction, Length: 69, dtype: object"
            ]
          },
          "metadata": {},
          "execution_count": 4
        }
      ]
    },
    {
      "cell_type": "markdown",
      "source": [
        "**Lemmatize**"
      ],
      "metadata": {
        "id": "CHEtuPhA40Hh"
      }
    },
    {
      "cell_type": "code",
      "source": [
        "df['Introduction'] = df['Introduction'].apply(lambda x: \" \".join([Word(word).lemmatize() for word in x.split()]))\n",
        "df['Introduction']"
      ],
      "metadata": {
        "colab": {
          "base_uri": "https://localhost:8080/"
        },
        "id": "D7ERarjP43Bz",
        "outputId": "e4f0eb4b-1897-4019-db3f-a7cd678f7f35"
      },
      "execution_count": 13,
      "outputs": [
        {
          "output_type": "execute_result",
          "data": {
            "text/plain": [
              "0     Recentadvanceslargepretrainedlanguagemodelsall...\n",
              "1     MakingdesirededitsimagevideousingtoolslikeAdob...\n",
              "2     Deep-learningbasedsuper-resolution(SR)methodsp...\n",
              "3     Generativelanguagemodelscorecapabilityproducti...\n",
              "4     Magneticresonanceimaging(MRI)usedmanydiagnosti...\n",
              "                            ...                        \n",
              "64    Genericshaperecognitiondemandsrepresentationsr...\n",
              "65    Inmanyvisionapplications,onesearchesobjectinte...\n",
              "66    WeaddressproblementeringASCIItextwearablecompu...\n",
              "67    Inpaper,unistrokekeyboardmouse-likesystembased...\n",
              "68    Understandingpredictinginterestingnessimagesvi...\n",
              "Name: Introduction, Length: 69, dtype: object"
            ]
          },
          "metadata": {},
          "execution_count": 13
        }
      ]
    },
    {
      "cell_type": "markdown",
      "source": [
        "**Word Frequency**"
      ],
      "metadata": {
        "id": "ze-fMcKL6Sv5"
      }
    },
    {
      "cell_type": "code",
      "source": [
        "count = 0\n",
        "with open('/content/drive/MyDrive/Datasets/NLM dataset/NLM dataset.txt') as f:\n",
        "  for word in f:\n",
        "    count = count + 1\n",
        "  print(count)  "
      ],
      "metadata": {
        "colab": {
          "base_uri": "https://localhost:8080/"
        },
        "id": "YgJczEiA6SO4",
        "outputId": "c4648282-5354-4842-8332-a023f3e3fb2b"
      },
      "execution_count": 18,
      "outputs": [
        {
          "output_type": "stream",
          "name": "stdout",
          "text": [
            "232\n"
          ]
        }
      ]
    }
  ]
}